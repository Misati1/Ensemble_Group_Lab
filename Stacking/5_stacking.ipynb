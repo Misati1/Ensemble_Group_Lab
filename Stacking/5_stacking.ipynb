{
 "cells": [
  {
   "cell_type": "code",
   "execution_count": 1,
   "id": "c25366da",
   "metadata": {},
   "outputs": [
    {
     "name": "stdout",
     "output_type": "stream",
     "text": [
      "Shape of dataset: (1599, 12)\n",
      "\n",
      "First 5 rows:\n",
      "   fixed acidity  volatile acidity  citric acid  residual sugar  chlorides  \\\n",
      "0            7.4              0.70         0.00             1.9      0.076   \n",
      "1            7.8              0.88         0.00             2.6      0.098   \n",
      "2            7.8              0.76         0.04             2.3      0.092   \n",
      "3           11.2              0.28         0.56             1.9      0.075   \n",
      "4            7.4              0.70         0.00             1.9      0.076   \n",
      "\n",
      "   free sulfur dioxide  total sulfur dioxide  density    pH  sulphates  \\\n",
      "0                 11.0                  34.0   0.9978  3.51       0.56   \n",
      "1                 25.0                  67.0   0.9968  3.20       0.68   \n",
      "2                 15.0                  54.0   0.9970  3.26       0.65   \n",
      "3                 17.0                  60.0   0.9980  3.16       0.58   \n",
      "4                 11.0                  34.0   0.9978  3.51       0.56   \n",
      "\n",
      "   alcohol  quality  \n",
      "0      9.4        5  \n",
      "1      9.8        5  \n",
      "2      9.8        5  \n",
      "3      9.8        6  \n",
      "4      9.4        5  \n",
      "\n",
      "Dataset Info:\n",
      "<class 'pandas.core.frame.DataFrame'>\n",
      "RangeIndex: 1599 entries, 0 to 1598\n",
      "Data columns (total 12 columns):\n",
      " #   Column                Non-Null Count  Dtype  \n",
      "---  ------                --------------  -----  \n",
      " 0   fixed acidity         1599 non-null   float64\n",
      " 1   volatile acidity      1599 non-null   float64\n",
      " 2   citric acid           1599 non-null   float64\n",
      " 3   residual sugar        1599 non-null   float64\n",
      " 4   chlorides             1599 non-null   float64\n",
      " 5   free sulfur dioxide   1599 non-null   float64\n",
      " 6   total sulfur dioxide  1599 non-null   float64\n",
      " 7   density               1599 non-null   float64\n",
      " 8   pH                    1599 non-null   float64\n",
      " 9   sulphates             1599 non-null   float64\n",
      " 10  alcohol               1599 non-null   float64\n",
      " 11  quality               1599 non-null   int64  \n",
      "dtypes: float64(11), int64(1)\n",
      "memory usage: 150.0 KB\n",
      "None\n",
      "\n",
      "Missing Values:\n",
      " fixed acidity           0\n",
      "volatile acidity        0\n",
      "citric acid             0\n",
      "residual sugar          0\n",
      "chlorides               0\n",
      "free sulfur dioxide     0\n",
      "total sulfur dioxide    0\n",
      "density                 0\n",
      "pH                      0\n",
      "sulphates               0\n",
      "alcohol                 0\n",
      "quality                 0\n",
      "dtype: int64\n"
     ]
    },
    {
     "name": "stderr",
     "output_type": "stream",
     "text": [
      "C:\\Users\\HP\\AppData\\Local\\Temp\\ipykernel_6096\\2253608823.py:28: FutureWarning: \n",
      "\n",
      "Passing `palette` without assigning `hue` is deprecated and will be removed in v0.14.0. Assign the `x` variable to `hue` and set `legend=False` for the same effect.\n",
      "\n",
      "  sns.countplot(x='quality', data=df, palette=\"Set2\")\n"
     ]
    },
    {
     "data": {
      "image/png": "[encoded data removed]",
      "text/plain": [
       "<Figure size 800x500 with 1 Axes>"
      ]
     },
     "metadata": {},
     "output_type": "display_data"
    }
   ],
   "source": [
    "# wine_quality_analysis.py\n",
    "\n",
    "# === Required Libraries ===\n",
    "import pandas as pd\n",
    "import numpy as np\n",
    "import matplotlib.pyplot as plt\n",
    "import seaborn as sns\n",
    "\n",
    "from sklearn.model_selection import train_test_split\n",
    "from sklearn.preprocessing import StandardScaler\n",
    "\n",
    "# === Load the Dataset ===\n",
    "df = pd.read_csv(\"../winequality-red.csv\")\n",
    "\n",
    "# === Basic Exploration ===\n",
    "print(\"Shape of dataset:\", df.shape)\n",
    "print(\"\\nFirst 5 rows:\")\n",
    "print(df.head())\n",
    "\n",
    "print(\"\\nDataset Info:\")\n",
    "print(df.info())\n",
    "\n",
    "# Check for missing values\n",
    "print(\"\\nMissing Values:\\n\", df.isnull().sum())\n",
    "\n",
    "# === Distribution of Quality Ratings ===\n",
    "plt.figure(figsize=(8, 5))\n",
    "sns.countplot(x='quality', data=df, palette=\"Set2\")\n",
    "plt.title(\"Distribution of Wine Quality Ratings\")\n",
    "plt.xlabel(\"Wine Quality\")\n",
    "plt.ylabel(\"Count\")\n",
    "plt.tight_layout()\n",
    "plt.show()\n"
   ]
  },
  {
   "cell_type": "code",
   "execution_count": 2,
   "id": "aef8c240",
   "metadata": {},
   "outputs": [
    {
     "name": "stdout",
     "output_type": "stream",
     "text": [
      "\n",
      "[5.1] Basic Stacking (LogisticRegression meta-learner):\n",
      "Accuracy: 0.66875\n",
      "              precision    recall  f1-score   support\n",
      "\n",
      "           3       0.00      0.00      0.00         2\n",
      "           4       0.00      0.00      0.00        11\n",
      "           5       0.72      0.72      0.72       136\n",
      "           6       0.62      0.73      0.67       128\n",
      "           7       0.69      0.55      0.61        40\n",
      "           8       0.00      0.00      0.00         3\n",
      "\n",
      "    accuracy                           0.67       320\n",
      "   macro avg       0.34      0.33      0.33       320\n",
      "weighted avg       0.64      0.67      0.65       320\n",
      "\n"
     ]
    },
    {
     "name": "stderr",
     "output_type": "stream",
     "text": [
      "c:\\Users\\HP\\Downloads\\Ensemble_Group_Lab\\.venv\\Lib\\site-packages\\sklearn\\metrics\\_classification.py:1706: UndefinedMetricWarning: Precision is ill-defined and being set to 0.0 in labels with no predicted samples. Use `zero_division` parameter to control this behavior.\n",
      "  _warn_prf(average, modifier, f\"{metric.capitalize()} is\", result.shape[0])\n",
      "c:\\Users\\HP\\Downloads\\Ensemble_Group_Lab\\.venv\\Lib\\site-packages\\sklearn\\metrics\\_classification.py:1706: UndefinedMetricWarning: Precision is ill-defined and being set to 0.0 in labels with no predicted samples. Use `zero_division` parameter to control this behavior.\n",
      "  _warn_prf(average, modifier, f\"{metric.capitalize()} is\", result.shape[0])\n",
      "c:\\Users\\HP\\Downloads\\Ensemble_Group_Lab\\.venv\\Lib\\site-packages\\sklearn\\metrics\\_classification.py:1706: UndefinedMetricWarning: Precision is ill-defined and being set to 0.0 in labels with no predicted samples. Use `zero_division` parameter to control this behavior.\n",
      "  _warn_prf(average, modifier, f\"{metric.capitalize()} is\", result.shape[0])\n"
     ]
    },
    {
     "name": "stdout",
     "output_type": "stream",
     "text": [
      "\n",
      "[5.2] Stacking with LogisticRegression as meta-learner:\n",
      "Accuracy: 0.66875\n",
      "\n",
      "[5.2] Stacking with RandomForest as meta-learner:\n",
      "Accuracy: 0.66875\n"
     ]
    },
    {
     "name": "stderr",
     "output_type": "stream",
     "text": [
      "c:\\Users\\HP\\Downloads\\Ensemble_Group_Lab\\.venv\\Lib\\site-packages\\xgboost\\training.py:183: UserWarning: [05:27:54] WARNING: C:\\actions-runner\\_work\\xgboost\\xgboost\\src\\learner.cc:738: \n",
      "Parameters: { \"use_label_encoder\" } are not used.\n",
      "\n",
      "  bst.update(dtrain, iteration=i, fobj=obj)\n"
     ]
    },
    {
     "name": "stdout",
     "output_type": "stream",
     "text": [
      "\n",
      "[5.2] Stacking with XGBoost as meta-learner:\n",
      "Accuracy: 0.675\n"
     ]
    },
    {
     "name": "stderr",
     "output_type": "stream",
     "text": [
      "c:\\Users\\HP\\Downloads\\Ensemble_Group_Lab\\.venv\\Lib\\site-packages\\xgboost\\training.py:183: UserWarning: [05:27:58] WARNING: C:\\actions-runner\\_work\\xgboost\\xgboost\\src\\learner.cc:738: \n",
      "Parameters: { \"use_label_encoder\" } are not used.\n",
      "\n",
      "  bst.update(dtrain, iteration=i, fobj=obj)\n"
     ]
    },
    {
     "name": "stdout",
     "output_type": "stream",
     "text": [
      "\n",
      "[5.3] Advanced Stacking (5 base models):\n",
      "Accuracy: 0.671875\n"
     ]
    },
    {
     "name": "stderr",
     "output_type": "stream",
     "text": [
      "c:\\Users\\HP\\Downloads\\Ensemble_Group_Lab\\.venv\\Lib\\site-packages\\xgboost\\training.py:183: UserWarning: [05:28:03] WARNING: C:\\actions-runner\\_work\\xgboost\\xgboost\\src\\learner.cc:738: \n",
      "Parameters: { \"use_label_encoder\" } are not used.\n",
      "\n",
      "  bst.update(dtrain, iteration=i, fobj=obj)\n"
     ]
    },
    {
     "name": "stdout",
     "output_type": "stream",
     "text": [
      "\n",
      "[5.3] Simple Stacking (3 base models):\n",
      "Accuracy: 0.675\n"
     ]
    }
   ],
   "source": [
    "\n",
    "from sklearn.ensemble import RandomForestClassifier, GradientBoostingClassifier, AdaBoostClassifier, StackingClassifier\n",
    "from sklearn.svm import SVC\n",
    "from sklearn.linear_model import LogisticRegression\n",
    "from sklearn.neighbors import KNeighborsClassifier\n",
    "from sklearn.metrics import accuracy_score, classification_report\n",
    "from xgboost import XGBClassifier\n",
    "from sklearn.model_selection import train_test_split, cross_val_score\n",
    "import pandas as pd\n",
    "from sklearn.preprocessing import StandardScaler\n",
    "\n",
    "# === Load Data ===\n",
    "df = pd.read_csv(\"../winequality-red.csv\")\n",
    "\n",
    "# === Prepare Data ===\n",
    "X = df.drop('quality', axis=1)\n",
    "y = df['quality']  # For simplicity, treat as multiclass classification\n",
    "\n",
    "# Optionally, binarize or group quality for binary classification\n",
    "# y = (df['quality'] >= 7).astype(int)\n",
    "\n",
    "X_train, X_test, y_train, y_test = train_test_split(X, y, test_size=0.2, random_state=42, stratify=y)\n",
    "\n",
    "scaler = StandardScaler()\n",
    "X_train = scaler.fit_transform(X_train)\n",
    "X_test = scaler.transform(X_test)\n",
    "\n",
    "# === Task 5.1: Basic Stacking ===\n",
    "base_learners = [\n",
    "    ('rf', RandomForestClassifier(n_estimators=50, random_state=42)),\n",
    "    ('gb', GradientBoostingClassifier(n_estimators=50, random_state=42)),\n",
    "    ('svc', SVC(probability=True, random_state=42))\n",
    "]\n",
    "meta_learner = LogisticRegression(max_iter=1000, random_state=42)\n",
    "\n",
    "stack = StackingClassifier(estimators=base_learners, final_estimator=meta_learner, cv=5, n_jobs=-1)\n",
    "stack.fit(X_train, y_train)\n",
    "y_pred = stack.predict(X_test)\n",
    "print(\"\\n[5.1] Basic Stacking (LogisticRegression meta-learner):\")\n",
    "print(\"Accuracy:\", accuracy_score(y_test, y_pred))\n",
    "print(classification_report(y_test, y_pred))\n",
    "\n",
    "# === Task 5.2: Compare Meta-Learners ===\n",
    "meta_learners = {\n",
    "    'LogisticRegression': LogisticRegression(max_iter=1000, random_state=42),\n",
    "    'RandomForest': RandomForestClassifier(n_estimators=50, random_state=42),\n",
    "    'XGBoost': XGBClassifier(n_estimators=50, use_label_encoder=False, eval_metric='mlogloss', random_state=42)\n",
    "}\n",
    "\n",
    "for name, meta in meta_learners.items():\n",
    "    stack = StackingClassifier(estimators=base_learners, final_estimator=meta, cv=5, n_jobs=-1)\n",
    "    stack.fit(X_train, y_train)\n",
    "    y_pred = stack.predict(X_test)\n",
    "    print(f\"\\n[5.2] Stacking with {name} as meta-learner:\")\n",
    "    print(\"Accuracy:\", accuracy_score(y_test, y_pred))\n",
    "\n",
    "# === Task 5.3: Advanced Stacking (5 base models) ===\n",
    "base_learners_adv = base_learners + [\n",
    "    ('knn', KNeighborsClassifier()),\n",
    "    ('ada', AdaBoostClassifier(n_estimators=50, random_state=42))\n",
    "]\n",
    "# Use the best meta-learner from 5.2 (replace 'XGBoost' if another is best)\n",
    "best_meta = XGBClassifier(n_estimators=50, use_label_encoder=False, eval_metric='mlogloss', random_state=42)\n",
    "stack_adv = StackingClassifier(estimators=base_learners_adv, final_estimator=best_meta, cv=5, n_jobs=-1)\n",
    "stack_adv.fit(X_train, y_train)\n",
    "y_pred_adv = stack_adv.predict(X_test)\n",
    "print(\"\\n[5.3] Advanced Stacking (5 base models):\")\n",
    "print(\"Accuracy:\", accuracy_score(y_test, y_pred_adv))\n",
    "\n",
    "# Compare with simple stack\n",
    "stack_simple = StackingClassifier(estimators=base_learners, final_estimator=best_meta, cv=5, n_jobs=-1)\n",
    "stack_simple.fit(X_train, y_train)\n",
    "y_pred_simple = stack_simple.predict(X_test)\n",
    "print(\"\\n[5.3] Simple Stacking (3 base models):\")\n",
    "print(\"Accuracy:\", accuracy_score(y_test, y_pred_simple))\n",
    "\n"
   ]
  }
 ],
 "metadata": {
  "kernelspec": {
   "display_name": ".venv",
   "language": "python",
   "name": "python3"
  },
  "language_info": {
   "codemirror_mode": {
    "name": "ipython",
    "version": 3
   },
   "file_extension": ".py",
   "mimetype": "text/x-python",
   "name": "python",
   "nbconvert_exporter": "python",
   "pygments_lexer": "ipython3",
   "version": "3.12.4"
  }
 },
 "nbformat": 4,
 "nbformat_minor": 5
}
