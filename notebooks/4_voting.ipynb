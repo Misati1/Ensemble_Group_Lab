{
 "cells": [
  {
   "cell_type": "code",
   "execution_count": 4,
   "id": "dd5bf188-e489-4f33-96cc-4eee9a375674",
   "metadata": {},
   "outputs": [
    {
     "name": "stdout",
     "output_type": "stream",
     "text": [
      "✅ Created ../outputs/part1_data.pkl\n"
     ]
    }
   ],
   "source": [
    "# Cell 0: If you haven’t run Part 1 yet, do it now:\n",
    "import os, joblib\n",
    "import pandas as pd\n",
    "from sklearn.model_selection import train_test_split\n",
    "from sklearn.preprocessing import StandardScaler\n",
    "\n",
    "# make sure outputs folder exists\n",
    "os.makedirs(\"../outputs\", exist_ok=True)\n",
    "\n",
    "# load raw CSV (adjust path if needed)\n",
    "df = pd.read_csv(\"../winequality-red.csv\")\n",
    "\n",
    "# binarize target\n",
    "df[\"good\"] = (df.quality >= 7).astype(int)\n",
    "\n",
    "# features & label\n",
    "X = df.drop(columns=[\"quality\", \"good\"])\n",
    "y = df[\"good\"]\n",
    "\n",
    "# split & scale\n",
    "X_train, X_test, y_train, y_test = train_test_split(\n",
    "    X, y, test_size=0.2, random_state=42, stratify=y\n",
    ")\n",
    "scaler = StandardScaler().fit(X_train)\n",
    "X_train = scaler.transform(X_train)\n",
    "X_test  = scaler.transform(X_test)\n",
    "\n",
    "# save for Parts 2–7\n",
    "joblib.dump((X_train, X_test, y_train, y_test), \"../outputs/part1_data.pkl\")\n",
    "print(\"✅ Created ../outputs/part1_data.pkl\")\n"
   ]
  },
  {
   "cell_type": "code",
   "execution_count": 5,
   "id": "3c7638c7-1b73-4f2f-9da1-fd42846caabf",
   "metadata": {},
   "outputs": [
    {
     "name": "stdout",
     "output_type": "stream",
     "text": [
      "Data shapes: (1279, 11) (320, 11) (1279,) (320,)\n"
     ]
    }
   ],
   "source": [
    "import os, joblib, pandas as pd, matplotlib.pyplot as plt\n",
    "from sklearn.linear_model   import LogisticRegression\n",
    "from sklearn.ensemble        import RandomForestClassifier, VotingClassifier\n",
    "from sklearn.svm             import SVC\n",
    "\n",
    "# ensure outputs folder exists\n",
    "os.makedirs(\"../outputs\", exist_ok=True)\n",
    "\n",
    "# load X_train, X_test, y_train, y_test from Part 1\n",
    "X_train, X_test, y_train, y_test = joblib.load(\"../outputs/part1_data.pkl\")\n",
    "print(\"Data shapes:\", X_train.shape, X_test.shape, y_train.shape, y_test.shape)\n"
   ]
  },
  {
   "cell_type": "code",
   "execution_count": 6,
   "id": "db907b44-ebd4-4586-b300-6824748f365f",
   "metadata": {},
   "outputs": [
    {
     "name": "stdout",
     "output_type": "stream",
     "text": [
      "LogisticRegression   → 0.8938\n",
      "RandomForest         → 0.9375\n",
      "SVC                  → 0.9000\n"
     ]
    }
   ],
   "source": [
    "models = {\n",
    "    \"LogisticRegression\": LogisticRegression(max_iter=1000, random_state=42),\n",
    "    \"RandomForest\"      : RandomForestClassifier(n_estimators=50, random_state=42),\n",
    "    \"SVC\"               : SVC(probability=True, random_state=42)\n",
    "}\n",
    "\n",
    "results = {}\n",
    "for name, clf in models.items():\n",
    "    clf.fit(X_train, y_train)\n",
    "    results[name] = clf.score(X_test, y_test)\n",
    "    print(f\"{name:20s} → {results[name]:.4f}\")\n"
   ]
  },
  {
   "cell_type": "code",
   "execution_count": 7,
   "id": "7c6bc843-1885-4ac5-8cd6-37f434b37716",
   "metadata": {},
   "outputs": [
    {
     "name": "stdout",
     "output_type": "stream",
     "text": [
      "\n",
      "Voting results:\n",
      "HardVoting           → 0.9062\n",
      "SoftVoting           → 0.9094\n"
     ]
    }
   ],
   "source": [
    "hard_vc = VotingClassifier(estimators=list(models.items()), voting=\"hard\")\n",
    "hard_vc.fit(X_train, y_train)\n",
    "results[\"HardVoting\"] = hard_vc.score(X_test, y_test)\n",
    "\n",
    "soft_vc = VotingClassifier(estimators=list(models.items()), voting=\"soft\")\n",
    "soft_vc.fit(X_train, y_train)\n",
    "results[\"SoftVoting\"] = soft_vc.score(X_test, y_test)\n",
    "\n",
    "print(\"\\nVoting results:\")\n",
    "for key in [\"HardVoting\",\"SoftVoting\"]:\n",
    "    print(f\"{key:20s} → {results[key]:.4f}\")\n"
   ]
  },
  {
   "cell_type": "code",
   "execution_count": 8,
   "id": "609b0a01-a751-49ad-af9b-75727e4cba25",
   "metadata": {},
   "outputs": [
    {
     "data": {
      "text/html": [
       "<div>\n",
       "<style scoped>\n",
       "    .dataframe tbody tr th:only-of-type {\n",
       "        vertical-align: middle;\n",
       "    }\n",
       "\n",
       "    .dataframe tbody tr th {\n",
       "        vertical-align: top;\n",
       "    }\n",
       "\n",
       "    .dataframe thead th {\n",
       "        text-align: right;\n",
       "    }\n",
       "</style>\n",
       "<table border=\"1\" class=\"dataframe\">\n",
       "  <thead>\n",
       "    <tr style=\"text-align: right;\">\n",
       "      <th></th>\n",
       "      <th>Accuracy</th>\n",
       "    </tr>\n",
       "  </thead>\n",
       "  <tbody>\n",
       "    <tr>\n",
       "      <th>RandomForest</th>\n",
       "      <td>0.937500</td>\n",
       "    </tr>\n",
       "    <tr>\n",
       "      <th>SoftVoting</th>\n",
       "      <td>0.909375</td>\n",
       "    </tr>\n",
       "    <tr>\n",
       "      <th>HardVoting</th>\n",
       "      <td>0.906250</td>\n",
       "    </tr>\n",
       "    <tr>\n",
       "      <th>SVC</th>\n",
       "      <td>0.900000</td>\n",
       "    </tr>\n",
       "    <tr>\n",
       "      <th>LogisticRegression</th>\n",
       "      <td>0.893750</td>\n",
       "    </tr>\n",
       "  </tbody>\n",
       "</table>\n",
       "</div>"
      ],
      "text/plain": [
       "                    Accuracy\n",
       "RandomForest        0.937500\n",
       "SoftVoting          0.909375\n",
       "HardVoting          0.906250\n",
       "SVC                 0.900000\n",
       "LogisticRegression  0.893750"
      ]
     },
     "execution_count": 8,
     "metadata": {},
     "output_type": "execute_result"
    }
   ],
   "source": [
    "df = pd.DataFrame.from_dict(results, orient=\"index\", columns=[\"Accuracy\"])\n",
    "df = df.sort_values(\"Accuracy\", ascending=False)\n",
    "df\n"
   ]
  },
  {
   "cell_type": "code",
   "execution_count": 9,
   "id": "efbdc902-ad78-4504-85ff-3280d16ac859",
   "metadata": {},
   "outputs": [
    {
     "data": {
      "image/png": "[encoded data removed]",
      "text/plain": [
       "<Figure size 600x400 with 1 Axes>"
      ]
     },
     "metadata": {},
     "output_type": "display_data"
    }
   ],
   "source": [
    "ax = df[\"Accuracy\"].plot.barh(figsize=(6,4))\n",
    "ax.set_xlabel(\"Test Accuracy\")\n",
    "ax.set_title(\"Part 4: Voting Classifier Comparison\")\n",
    "plt.tight_layout()\n",
    "plt.savefig(\"../outputs/part4_accuracy_comparison.png\")\n",
    "plt.show()\n"
   ]
  },
  {
   "cell_type": "code",
   "execution_count": 10,
   "id": "3000508c-8ccb-4624-b531-1e05a12a9d18",
   "metadata": {},
   "outputs": [
    {
     "ename": "SyntaxError",
     "evalue": "invalid syntax (165582376.py, line 3)",
     "output_type": "error",
     "traceback": [
      "  \u001b[36mCell\u001b[39m\u001b[36m \u001b[39m\u001b[32mIn[10]\u001b[39m\u001b[32m, line 3\u001b[39m\n\u001b[31m    \u001b[39m\u001b[31m- **Soft Voting** achieved the highest test accuracy (`XX.XX%`), followed by **RandomForest** (`YY.YY%`).\u001b[39m\n      ^\n\u001b[31mSyntaxError\u001b[39m\u001b[31m:\u001b[39m invalid syntax\n"
     ]
    }
   ],
   "source": []
  },
  {
   "cell_type": "code",
   "execution_count": null,
   "id": "72ddbf85-935f-4e2b-943c-94edf6064b17",
   "metadata": {},
   "outputs": [],
   "source": []
  }
 ],
 "metadata": {
  "kernelspec": {
   "display_name": "Python 3 (ipykernel)",
   "language": "python",
   "name": "python3"
  },
  "language_info": {
   "codemirror_mode": {
    "name": "ipython",
    "version": 3
   },
   "file_extension": ".py",
   "mimetype": "text/x-python",
   "name": "python",
   "nbconvert_exporter": "python",
   "pygments_lexer": "ipython3",
   "version": "3.12.10"
  }
 },
 "nbformat": 4,
 "nbformat_minor": 5
}
